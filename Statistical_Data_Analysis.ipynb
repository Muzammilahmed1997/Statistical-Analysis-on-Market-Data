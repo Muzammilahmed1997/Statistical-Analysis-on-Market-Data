{
 "cells": [
  {
   "cell_type": "markdown",
   "metadata": {},
   "source": [
    "## Importing Libraries"
   ]
  },
  {
   "cell_type": "code",
   "execution_count": 1,
   "metadata": {},
   "outputs": [],
   "source": [
    "import pandas as pd   \n",
    "import numpy as np\n",
    "import matplotlib.pyplot as plt\n",
    "\n",
    "import warnings\n",
    "warnings.filterwarnings('ignore')"
   ]
  },
  {
   "cell_type": "markdown",
   "metadata": {},
   "source": [
    "## Loading Datasets"
   ]
  },
  {
   "cell_type": "code",
   "execution_count": 2,
   "metadata": {},
   "outputs": [
    {
     "name": "stdout",
     "output_type": "stream",
     "text": [
      "(667, 6)\n",
      "(9427395, 11)\n"
     ]
    }
   ],
   "source": [
    "data_1 = pd.read_csv(\"E:/upcche.csv\")\n",
    "data_2 = pd.read_csv(\"E:/wche.csv\")\n",
    "print(data_1.shape)\n",
    "print(data_2.shape)"
   ]
  },
  {
   "cell_type": "markdown",
   "metadata": {},
   "source": [
    "## UPC Dataset (Data_1)"
   ]
  },
  {
   "cell_type": "markdown",
   "metadata": {},
   "source": [
    "### Data Exploration"
   ]
  },
  {
   "cell_type": "code",
   "execution_count": 3,
   "metadata": {},
   "outputs": [
    {
     "name": "stdout",
     "output_type": "stream",
     "text": [
      "Length of Dataset:  667\n",
      "Number of Attributes:  6\n"
     ]
    }
   ],
   "source": [
    "print('Length of Dataset: ', data_1.shape[0])\n",
    "print('Number of Attributes: ', data_1.shape[1])"
   ]
  },
  {
   "cell_type": "code",
   "execution_count": 4,
   "metadata": {},
   "outputs": [
    {
     "data": {
      "text/html": [
       "<div>\n",
       "<style scoped>\n",
       "    .dataframe tbody tr th:only-of-type {\n",
       "        vertical-align: middle;\n",
       "    }\n",
       "\n",
       "    .dataframe tbody tr th {\n",
       "        vertical-align: top;\n",
       "    }\n",
       "\n",
       "    .dataframe thead th {\n",
       "        text-align: right;\n",
       "    }\n",
       "</style>\n",
       "<table border=\"1\" class=\"dataframe\">\n",
       "  <thead>\n",
       "    <tr style=\"text-align: right;\">\n",
       "      <th></th>\n",
       "      <th>COM_CODE</th>\n",
       "      <th>UPC</th>\n",
       "      <th>DESCRIP</th>\n",
       "      <th>SIZE</th>\n",
       "      <th>CASE</th>\n",
       "      <th>NITEM</th>\n",
       "    </tr>\n",
       "  </thead>\n",
       "  <tbody>\n",
       "    <tr>\n",
       "      <th>0</th>\n",
       "      <td>153</td>\n",
       "      <td>1570077445</td>\n",
       "      <td>CTY LN COLBY MILD</td>\n",
       "      <td>10 OZ</td>\n",
       "      <td>12</td>\n",
       "      <td>5390551</td>\n",
       "    </tr>\n",
       "    <tr>\n",
       "      <th>1</th>\n",
       "      <td>153</td>\n",
       "      <td>1570077446</td>\n",
       "      <td>CTY LN CHEDDAR MILD</td>\n",
       "      <td>10 OZ</td>\n",
       "      <td>12</td>\n",
       "      <td>5390571</td>\n",
       "    </tr>\n",
       "    <tr>\n",
       "      <th>2</th>\n",
       "      <td>153</td>\n",
       "      <td>1570077454</td>\n",
       "      <td>CTY LN CHEDDAR MED/S</td>\n",
       "      <td>8 OZ</td>\n",
       "      <td>12</td>\n",
       "      <td>5390591</td>\n",
       "    </tr>\n",
       "    <tr>\n",
       "      <th>3</th>\n",
       "      <td>153</td>\n",
       "      <td>1570077455</td>\n",
       "      <td>CTY LN CHEDDAR SHARP</td>\n",
       "      <td>8 OZ</td>\n",
       "      <td>12</td>\n",
       "      <td>5390511</td>\n",
       "    </tr>\n",
       "    <tr>\n",
       "      <th>4</th>\n",
       "      <td>153</td>\n",
       "      <td>1570077456</td>\n",
       "      <td>CTY LN SWISS OLD WOR</td>\n",
       "      <td>10 OZ</td>\n",
       "      <td>12</td>\n",
       "      <td>5390531</td>\n",
       "    </tr>\n",
       "  </tbody>\n",
       "</table>\n",
       "</div>"
      ],
      "text/plain": [
       "   COM_CODE         UPC               DESCRIP   SIZE  CASE    NITEM\n",
       "0       153  1570077445     CTY LN COLBY MILD  10 OZ    12  5390551\n",
       "1       153  1570077446   CTY LN CHEDDAR MILD  10 OZ    12  5390571\n",
       "2       153  1570077454  CTY LN CHEDDAR MED/S   8 OZ    12  5390591\n",
       "3       153  1570077455  CTY LN CHEDDAR SHARP   8 OZ    12  5390511\n",
       "4       153  1570077456  CTY LN SWISS OLD WOR  10 OZ    12  5390531"
      ]
     },
     "execution_count": 4,
     "metadata": {},
     "output_type": "execute_result"
    }
   ],
   "source": [
    "data_1.head()"
   ]
  },
  {
   "cell_type": "code",
   "execution_count": 5,
   "metadata": {},
   "outputs": [
    {
     "data": {
      "text/plain": [
       "LC SHIPPER/WEDGE-COM    4\n",
       "DOM SHREDDED MOZZARE    4\n",
       "KR AMERICAN SINGLES     4\n",
       "DOM SHREDDED MILD CH    4\n",
       "KRAFT CRACKER BARREL    4\n",
       "                       ..\n",
       "KR SPREADERY RANCH      1\n",
       "KR SPREADERY MLD MEX    1\n",
       "KR SPREADERY PORT WI    1\n",
       "KR SPREADERY MED CHE    1\n",
       "CF RW 10# SWISS         1\n",
       "Name: DESCRIP, Length: 575, dtype: int64"
      ]
     },
     "execution_count": 5,
     "metadata": {},
     "output_type": "execute_result"
    }
   ],
   "source": [
    "data_1['DESCRIP'].value_counts()"
   ]
  },
  {
   "cell_type": "code",
   "execution_count": 6,
   "metadata": {},
   "outputs": [
    {
     "data": {
      "text/plain": [
       "575"
      ]
     },
     "execution_count": 6,
     "metadata": {},
     "output_type": "execute_result"
    }
   ],
   "source": [
    "# Checking unique values in description column.\n",
    "data_1['DESCRIP'].nunique()"
   ]
  },
  {
   "cell_type": "code",
   "execution_count": 7,
   "metadata": {},
   "outputs": [
    {
     "data": {
      "text/plain": [
       "COM_CODE     int64\n",
       "UPC          int64\n",
       "DESCRIP     object\n",
       "SIZE        object\n",
       "CASE         int64\n",
       "NITEM        int64\n",
       "dtype: object"
      ]
     },
     "execution_count": 7,
     "metadata": {},
     "output_type": "execute_result"
    }
   ],
   "source": [
    "data_1.dtypes"
   ]
  },
  {
   "cell_type": "code",
   "execution_count": 8,
   "metadata": {},
   "outputs": [
    {
     "data": {
      "text/html": [
       "<div>\n",
       "<style scoped>\n",
       "    .dataframe tbody tr th:only-of-type {\n",
       "        vertical-align: middle;\n",
       "    }\n",
       "\n",
       "    .dataframe tbody tr th {\n",
       "        vertical-align: top;\n",
       "    }\n",
       "\n",
       "    .dataframe thead th {\n",
       "        text-align: right;\n",
       "    }\n",
       "</style>\n",
       "<table border=\"1\" class=\"dataframe\">\n",
       "  <thead>\n",
       "    <tr style=\"text-align: right;\">\n",
       "      <th></th>\n",
       "      <th>COM_CODE</th>\n",
       "      <th>UPC</th>\n",
       "      <th>CASE</th>\n",
       "      <th>NITEM</th>\n",
       "    </tr>\n",
       "  </thead>\n",
       "  <tbody>\n",
       "    <tr>\n",
       "      <th>count</th>\n",
       "      <td>667.000000</td>\n",
       "      <td>6.670000e+02</td>\n",
       "      <td>667.000000</td>\n",
       "      <td>6.670000e+02</td>\n",
       "    </tr>\n",
       "    <tr>\n",
       "      <th>mean</th>\n",
       "      <td>154.178411</td>\n",
       "      <td>5.250123e+09</td>\n",
       "      <td>15.215892</td>\n",
       "      <td>5.678937e+06</td>\n",
       "    </tr>\n",
       "    <tr>\n",
       "      <th>std</th>\n",
       "      <td>3.842970</td>\n",
       "      <td>6.896628e+09</td>\n",
       "      <td>16.502658</td>\n",
       "      <td>1.551845e+06</td>\n",
       "    </tr>\n",
       "    <tr>\n",
       "      <th>min</th>\n",
       "      <td>61.000000</td>\n",
       "      <td>1.570077e+09</td>\n",
       "      <td>1.000000</td>\n",
       "      <td>5.303450e+05</td>\n",
       "    </tr>\n",
       "    <tr>\n",
       "      <th>25%</th>\n",
       "      <td>153.000000</td>\n",
       "      <td>2.100062e+09</td>\n",
       "      <td>12.000000</td>\n",
       "      <td>5.352016e+06</td>\n",
       "    </tr>\n",
       "    <tr>\n",
       "      <th>50%</th>\n",
       "      <td>154.000000</td>\n",
       "      <td>3.828153e+09</td>\n",
       "      <td>12.000000</td>\n",
       "      <td>5.375101e+06</td>\n",
       "    </tr>\n",
       "    <tr>\n",
       "      <th>75%</th>\n",
       "      <td>155.000000</td>\n",
       "      <td>7.015329e+09</td>\n",
       "      <td>12.000000</td>\n",
       "      <td>5.397111e+06</td>\n",
       "    </tr>\n",
       "    <tr>\n",
       "      <th>max</th>\n",
       "      <td>157.000000</td>\n",
       "      <td>7.353758e+10</td>\n",
       "      <td>288.000000</td>\n",
       "      <td>9.898980e+06</td>\n",
       "    </tr>\n",
       "  </tbody>\n",
       "</table>\n",
       "</div>"
      ],
      "text/plain": [
       "         COM_CODE           UPC        CASE         NITEM\n",
       "count  667.000000  6.670000e+02  667.000000  6.670000e+02\n",
       "mean   154.178411  5.250123e+09   15.215892  5.678937e+06\n",
       "std      3.842970  6.896628e+09   16.502658  1.551845e+06\n",
       "min     61.000000  1.570077e+09    1.000000  5.303450e+05\n",
       "25%    153.000000  2.100062e+09   12.000000  5.352016e+06\n",
       "50%    154.000000  3.828153e+09   12.000000  5.375101e+06\n",
       "75%    155.000000  7.015329e+09   12.000000  5.397111e+06\n",
       "max    157.000000  7.353758e+10  288.000000  9.898980e+06"
      ]
     },
     "execution_count": 8,
     "metadata": {},
     "output_type": "execute_result"
    }
   ],
   "source": [
    "data_1.describe()"
   ]
  },
  {
   "cell_type": "code",
   "execution_count": 9,
   "metadata": {},
   "outputs": [
    {
     "data": {
      "text/html": [
       "<div>\n",
       "<style scoped>\n",
       "    .dataframe tbody tr th:only-of-type {\n",
       "        vertical-align: middle;\n",
       "    }\n",
       "\n",
       "    .dataframe tbody tr th {\n",
       "        vertical-align: top;\n",
       "    }\n",
       "\n",
       "    .dataframe thead th {\n",
       "        text-align: right;\n",
       "    }\n",
       "</style>\n",
       "<table border=\"1\" class=\"dataframe\">\n",
       "  <thead>\n",
       "    <tr style=\"text-align: right;\">\n",
       "      <th></th>\n",
       "      <th>COM_CODE</th>\n",
       "      <th>UPC</th>\n",
       "      <th>DESCRIP</th>\n",
       "      <th>SIZE</th>\n",
       "      <th>CASE</th>\n",
       "      <th>NITEM</th>\n",
       "    </tr>\n",
       "  </thead>\n",
       "  <tbody>\n",
       "    <tr>\n",
       "      <th>0</th>\n",
       "      <td>153</td>\n",
       "      <td>1570077445</td>\n",
       "      <td>CTY LN COLBY MILD</td>\n",
       "      <td>10 OZ</td>\n",
       "      <td>12</td>\n",
       "      <td>5390551</td>\n",
       "    </tr>\n",
       "    <tr>\n",
       "      <th>1</th>\n",
       "      <td>153</td>\n",
       "      <td>1570077446</td>\n",
       "      <td>CTY LN CHEDDAR MILD</td>\n",
       "      <td>10 OZ</td>\n",
       "      <td>12</td>\n",
       "      <td>5390571</td>\n",
       "    </tr>\n",
       "    <tr>\n",
       "      <th>2</th>\n",
       "      <td>153</td>\n",
       "      <td>1570077454</td>\n",
       "      <td>CTY LN CHEDDAR MED/S</td>\n",
       "      <td>8 OZ</td>\n",
       "      <td>12</td>\n",
       "      <td>5390591</td>\n",
       "    </tr>\n",
       "    <tr>\n",
       "      <th>3</th>\n",
       "      <td>153</td>\n",
       "      <td>1570077455</td>\n",
       "      <td>CTY LN CHEDDAR SHARP</td>\n",
       "      <td>8 OZ</td>\n",
       "      <td>12</td>\n",
       "      <td>5390511</td>\n",
       "    </tr>\n",
       "    <tr>\n",
       "      <th>4</th>\n",
       "      <td>153</td>\n",
       "      <td>1570077456</td>\n",
       "      <td>CTY LN SWISS OLD WOR</td>\n",
       "      <td>10 OZ</td>\n",
       "      <td>12</td>\n",
       "      <td>5390531</td>\n",
       "    </tr>\n",
       "    <tr>\n",
       "      <th>5</th>\n",
       "      <td>153</td>\n",
       "      <td>1570077458</td>\n",
       "      <td>COUNTY LINE/COLBY JA</td>\n",
       "      <td>10 OZ</td>\n",
       "      <td>12</td>\n",
       "      <td>5390621</td>\n",
       "    </tr>\n",
       "    <tr>\n",
       "      <th>6</th>\n",
       "      <td>153</td>\n",
       "      <td>1570077501</td>\n",
       "      <td>CTY LN MONTEREY JACK</td>\n",
       "      <td>10 OZ</td>\n",
       "      <td>12</td>\n",
       "      <td>5390491</td>\n",
       "    </tr>\n",
       "    <tr>\n",
       "      <th>7</th>\n",
       "      <td>153</td>\n",
       "      <td>1570077503</td>\n",
       "      <td>~COUNTY LINE MUENSTE</td>\n",
       "      <td>8 OZ</td>\n",
       "      <td>12</td>\n",
       "      <td>5390441</td>\n",
       "    </tr>\n",
       "    <tr>\n",
       "      <th>8</th>\n",
       "      <td>153</td>\n",
       "      <td>1570077507</td>\n",
       "      <td>~COUNTY LINE MOZZ CH</td>\n",
       "      <td>8 OZ</td>\n",
       "      <td>12</td>\n",
       "      <td>5390421</td>\n",
       "    </tr>\n",
       "    <tr>\n",
       "      <th>9</th>\n",
       "      <td>153</td>\n",
       "      <td>1570077508</td>\n",
       "      <td>COUNTY LINE EXTRA SH</td>\n",
       "      <td>8 OZ</td>\n",
       "      <td>12</td>\n",
       "      <td>5390401</td>\n",
       "    </tr>\n",
       "  </tbody>\n",
       "</table>\n",
       "</div>"
      ],
      "text/plain": [
       "   COM_CODE         UPC               DESCRIP   SIZE  CASE    NITEM\n",
       "0       153  1570077445     CTY LN COLBY MILD  10 OZ    12  5390551\n",
       "1       153  1570077446   CTY LN CHEDDAR MILD  10 OZ    12  5390571\n",
       "2       153  1570077454  CTY LN CHEDDAR MED/S   8 OZ    12  5390591\n",
       "3       153  1570077455  CTY LN CHEDDAR SHARP   8 OZ    12  5390511\n",
       "4       153  1570077456  CTY LN SWISS OLD WOR  10 OZ    12  5390531\n",
       "5       153  1570077458  COUNTY LINE/COLBY JA  10 OZ    12  5390621\n",
       "6       153  1570077501  CTY LN MONTEREY JACK  10 OZ    12  5390491\n",
       "7       153  1570077503  ~COUNTY LINE MUENSTE   8 OZ    12  5390441\n",
       "8       153  1570077507  ~COUNTY LINE MOZZ CH   8 OZ    12  5390421\n",
       "9       153  1570077508  COUNTY LINE EXTRA SH   8 OZ    12  5390401"
      ]
     },
     "execution_count": 9,
     "metadata": {},
     "output_type": "execute_result"
    }
   ],
   "source": [
    "data_1.head(10)"
   ]
  },
  {
   "cell_type": "code",
   "execution_count": 10,
   "metadata": {},
   "outputs": [
    {
     "data": {
      "image/png": "[encoded data removed]",
      "text/plain": [
       "<Figure size 1008x576 with 1 Axes>"
      ]
     },
     "metadata": {
      "needs_background": "light"
     },
     "output_type": "display_data"
    }
   ],
   "source": [
    "import matplotlib.pyplot as plt\n",
    "ax = data_1['COM_CODE'].value_counts().plot(kind='bar', figsize=(14,8), title=\"Dominick's Commodity Code\")\n",
    "ax.set_xlabel(\"Commodity Code\")\n",
    "ax.set_ylabel(\"Numbers\")\n",
    "plt.show()"
   ]
  },
  {
   "cell_type": "markdown",
   "metadata": {},
   "source": [
    "## Cleaning Dataset"
   ]
  },
  {
   "cell_type": "markdown",
   "metadata": {},
   "source": [
    "### 1- Removing Inconsistencies from dataset"
   ]
  },
  {
   "cell_type": "code",
   "execution_count": 11,
   "metadata": {},
   "outputs": [],
   "source": [
    "#cleaning description by removing inconsistencies.\n",
    "\n",
    "data_1['DESCRIP'] = data_1['DESCRIP'].str.replace('#','')\n",
    "data_1['DESCRIP'] = data_1['DESCRIP'].str.replace('.','')\n",
    "data_1['DESCRIP'] = data_1['DESCRIP'].str.replace('~','')\n",
    "data_1['DESCRIP'] = data_1['DESCRIP'].str.replace('$','')\n",
    "data_1['DESCRIP'] = data_1['DESCRIP'].str.replace('*','')\n",
    "data_1['DESCRIP'] = data_1['DESCRIP'].str.replace('\\s\\d+:\\d+:\\d+[^a-c6]\\d+$', '', regex= True)"
   ]
  },
  {
   "cell_type": "code",
   "execution_count": 12,
   "metadata": {},
   "outputs": [],
   "source": [
    "#cleaning Size column by removing inconsistencies.\n",
    "\n",
    "data_1['SIZE'] = data_1['SIZE'].str.replace(' ','')\n",
    "data_1['SIZE'] = data_1['SIZE'].str.replace('OZ', '')\n",
    "data_1['SIZE'] = data_1['SIZE'].str.replace('LB','')\n",
    "data_1['SIZE'] = data_1['SIZE'].str.replace('CT','')\n",
    "data_1['SIZE'] = data_1['SIZE'].str.rstrip('.')\n",
    "data_1['SIZE'] = data_1['SIZE'].str.replace('MUENST','1')\n",
    "data_1['SIZE'] = data_1['SIZE'].str.replace('TO','-')\n",
    "data_1['SIZE'] = data_1['SIZE'].str.replace('#','')"
   ]
  },
  {
   "cell_type": "code",
   "execution_count": 13,
   "metadata": {},
   "outputs": [],
   "source": [
    "#Adding OZ at the end of evry value.\n",
    "\n",
    "data_1['SIZE'] = data_1['SIZE'].astype(str) + ' OZ'"
   ]
  },
  {
   "cell_type": "code",
   "execution_count": 14,
   "metadata": {},
   "outputs": [
    {
     "data": {
      "text/html": [
       "<div>\n",
       "<style scoped>\n",
       "    .dataframe tbody tr th:only-of-type {\n",
       "        vertical-align: middle;\n",
       "    }\n",
       "\n",
       "    .dataframe tbody tr th {\n",
       "        vertical-align: top;\n",
       "    }\n",
       "\n",
       "    .dataframe thead th {\n",
       "        text-align: right;\n",
       "    }\n",
       "</style>\n",
       "<table border=\"1\" class=\"dataframe\">\n",
       "  <thead>\n",
       "    <tr style=\"text-align: right;\">\n",
       "      <th></th>\n",
       "      <th>COM_CODE</th>\n",
       "      <th>UPC</th>\n",
       "      <th>DESCRIP</th>\n",
       "      <th>SIZE</th>\n",
       "      <th>CASE</th>\n",
       "      <th>NITEM</th>\n",
       "    </tr>\n",
       "  </thead>\n",
       "  <tbody>\n",
       "    <tr>\n",
       "      <th>617</th>\n",
       "      <td>154</td>\n",
       "      <td>7881200830</td>\n",
       "      <td>MILLERS STRING CHEES</td>\n",
       "      <td>4 OZ</td>\n",
       "      <td>12</td>\n",
       "      <td>5375060</td>\n",
       "    </tr>\n",
       "    <tr>\n",
       "      <th>618</th>\n",
       "      <td>155</td>\n",
       "      <td>7881200885</td>\n",
       "      <td>MILLERS AMER SLCD YE</td>\n",
       "      <td>3 OZ</td>\n",
       "      <td>3</td>\n",
       "      <td>9824440</td>\n",
       "    </tr>\n",
       "    <tr>\n",
       "      <th>619</th>\n",
       "      <td>154</td>\n",
       "      <td>7881200910</td>\n",
       "      <td>MILLERS SHRED MOZZER</td>\n",
       "      <td>8 OZ</td>\n",
       "      <td>12</td>\n",
       "      <td>5375070</td>\n",
       "    </tr>\n",
       "    <tr>\n",
       "      <th>620</th>\n",
       "      <td>155</td>\n",
       "      <td>7881207202</td>\n",
       "      <td>MLRS LO SOD/LO FAT S</td>\n",
       "      <td>6 OZ</td>\n",
       "      <td>12</td>\n",
       "      <td>5375050</td>\n",
       "    </tr>\n",
       "    <tr>\n",
       "      <th>621</th>\n",
       "      <td>156</td>\n",
       "      <td>7881207805</td>\n",
       "      <td>MILLERS LO SALT GOUD</td>\n",
       "      <td>7.0 OZ</td>\n",
       "      <td>12</td>\n",
       "      <td>5375130</td>\n",
       "    </tr>\n",
       "    <tr>\n",
       "      <th>622</th>\n",
       "      <td>156</td>\n",
       "      <td>7881208328</td>\n",
       "      <td>MILLERS HRB-GRLC YOG</td>\n",
       "      <td>6 OZ</td>\n",
       "      <td>12</td>\n",
       "      <td>5375090</td>\n",
       "    </tr>\n",
       "    <tr>\n",
       "      <th>623</th>\n",
       "      <td>154</td>\n",
       "      <td>7881208350</td>\n",
       "      <td>MLR KSR CHS SLYOGUR</td>\n",
       "      <td>6 OZ</td>\n",
       "      <td>12</td>\n",
       "      <td>9824200</td>\n",
       "    </tr>\n",
       "    <tr>\n",
       "      <th>624</th>\n",
       "      <td>154</td>\n",
       "      <td>7881209725</td>\n",
       "      <td>MILLERS WHITE AMERIC</td>\n",
       "      <td>12 OZ</td>\n",
       "      <td>12</td>\n",
       "      <td>5375030</td>\n",
       "    </tr>\n",
       "    <tr>\n",
       "      <th>625</th>\n",
       "      <td>155</td>\n",
       "      <td>7881209885</td>\n",
       "      <td>MILLERS AMER SLCD WH</td>\n",
       "      <td>3 OZ</td>\n",
       "      <td>3</td>\n",
       "      <td>9824450</td>\n",
       "    </tr>\n",
       "    <tr>\n",
       "      <th>626</th>\n",
       "      <td>154</td>\n",
       "      <td>7881231400</td>\n",
       "      <td>MILLER'S SL AMERICAN</td>\n",
       "      <td>8 OZ</td>\n",
       "      <td>12</td>\n",
       "      <td>9822940</td>\n",
       "    </tr>\n",
       "    <tr>\n",
       "      <th>627</th>\n",
       "      <td>156</td>\n",
       "      <td>7881231500</td>\n",
       "      <td>MILLER'S SL AMERICAN</td>\n",
       "      <td>8 OZ</td>\n",
       "      <td>12</td>\n",
       "      <td>9822950</td>\n",
       "    </tr>\n",
       "    <tr>\n",
       "      <th>628</th>\n",
       "      <td>156</td>\n",
       "      <td>7978340812</td>\n",
       "      <td>LC SHIPPER/WEDGE-COM</td>\n",
       "      <td>6 OZ</td>\n",
       "      <td>72</td>\n",
       "      <td>9898980</td>\n",
       "    </tr>\n",
       "    <tr>\n",
       "      <th>629</th>\n",
       "      <td>156</td>\n",
       "      <td>7978340820</td>\n",
       "      <td>LC SHIPPER/WEDGE-COM</td>\n",
       "      <td>6 OZ</td>\n",
       "      <td>72</td>\n",
       "      <td>9898980</td>\n",
       "    </tr>\n",
       "    <tr>\n",
       "      <th>630</th>\n",
       "      <td>156</td>\n",
       "      <td>7978340821</td>\n",
       "      <td>LC SHIPPER/WEDGE-COM</td>\n",
       "      <td>6 OZ</td>\n",
       "      <td>72</td>\n",
       "      <td>9898980</td>\n",
       "    </tr>\n",
       "    <tr>\n",
       "      <th>631</th>\n",
       "      <td>156</td>\n",
       "      <td>7978340829</td>\n",
       "      <td>LC SHIPPER/WEDGE-COM</td>\n",
       "      <td>6 OZ</td>\n",
       "      <td>72</td>\n",
       "      <td>9898980</td>\n",
       "    </tr>\n",
       "    <tr>\n",
       "      <th>632</th>\n",
       "      <td>153</td>\n",
       "      <td>9396624310</td>\n",
       "      <td>ORGANIC VALLEY MILD</td>\n",
       "      <td>8 OZ</td>\n",
       "      <td>14</td>\n",
       "      <td>5303900</td>\n",
       "    </tr>\n",
       "    <tr>\n",
       "      <th>633</th>\n",
       "      <td>155</td>\n",
       "      <td>26100500000</td>\n",
       "      <td>DOM PP SLICED AMERIC</td>\n",
       "      <td>8-1 OZ</td>\n",
       "      <td>10</td>\n",
       "      <td>5373901</td>\n",
       "    </tr>\n",
       "    <tr>\n",
       "      <th>634</th>\n",
       "      <td>153</td>\n",
       "      <td>26104500000</td>\n",
       "      <td>DOM  MUENSTER CHUNCK</td>\n",
       "      <td>8-1 OZ</td>\n",
       "      <td>20</td>\n",
       "      <td>5390501</td>\n",
       "    </tr>\n",
       "    <tr>\n",
       "      <th>635</th>\n",
       "      <td>153</td>\n",
       "      <td>26106500000</td>\n",
       "      <td>DOM SHARP CHEDDAR CH</td>\n",
       "      <td>8-1 OZ</td>\n",
       "      <td>20</td>\n",
       "      <td>5392001</td>\n",
       "    </tr>\n",
       "    <tr>\n",
       "      <th>636</th>\n",
       "      <td>153</td>\n",
       "      <td>26109000000</td>\n",
       "      <td>DOM SWISS CHUNCK</td>\n",
       "      <td>8-1 OZ</td>\n",
       "      <td>20</td>\n",
       "      <td>5394001</td>\n",
       "    </tr>\n",
       "    <tr>\n",
       "      <th>637</th>\n",
       "      <td>153</td>\n",
       "      <td>26500400000</td>\n",
       "      <td>HH PP BRICK CHNK</td>\n",
       "      <td>8-1 OZ</td>\n",
       "      <td>20</td>\n",
       "      <td>5391501</td>\n",
       "    </tr>\n",
       "    <tr>\n",
       "      <th>638</th>\n",
       "      <td>153</td>\n",
       "      <td>26500900000</td>\n",
       "      <td>HH PP SLCD BRICK</td>\n",
       "      <td>8-1 OZ</td>\n",
       "      <td>10</td>\n",
       "      <td>5374501</td>\n",
       "    </tr>\n",
       "    <tr>\n",
       "      <th>639</th>\n",
       "      <td>153</td>\n",
       "      <td>26503000000</td>\n",
       "      <td>DOM MILD CHEDDAR CHU</td>\n",
       "      <td>8-1 OZ</td>\n",
       "      <td>20</td>\n",
       "      <td>5394351</td>\n",
       "    </tr>\n",
       "    <tr>\n",
       "      <th>640</th>\n",
       "      <td>153</td>\n",
       "      <td>26503400000</td>\n",
       "      <td>DOM PP SLICED MILD C</td>\n",
       "      <td>8-1 OZ</td>\n",
       "      <td>10</td>\n",
       "      <td>5375501</td>\n",
       "    </tr>\n",
       "    <tr>\n",
       "      <th>641</th>\n",
       "      <td>153</td>\n",
       "      <td>26504200000</td>\n",
       "      <td>HH PP LH CHDR CHNK</td>\n",
       "      <td>8-1 OZ</td>\n",
       "      <td>20</td>\n",
       "      <td>5394101</td>\n",
       "    </tr>\n",
       "    <tr>\n",
       "      <th>642</th>\n",
       "      <td>153</td>\n",
       "      <td>26507600000</td>\n",
       "      <td>DOM SHARP CHEDDAR CH</td>\n",
       "      <td>8-1 OZ</td>\n",
       "      <td>20</td>\n",
       "      <td>5392001</td>\n",
       "    </tr>\n",
       "    <tr>\n",
       "      <th>643</th>\n",
       "      <td>153</td>\n",
       "      <td>26508000000</td>\n",
       "      <td>DOM PP SLICED SHARP</td>\n",
       "      <td>8-1 OZ</td>\n",
       "      <td>10</td>\n",
       "      <td>5376501</td>\n",
       "    </tr>\n",
       "    <tr>\n",
       "      <th>644</th>\n",
       "      <td>153</td>\n",
       "      <td>26510300000</td>\n",
       "      <td>HH PP NY CHDR CHNK</td>\n",
       "      <td>8-1 OZ</td>\n",
       "      <td>20</td>\n",
       "      <td>5392101</td>\n",
       "    </tr>\n",
       "    <tr>\n",
       "      <th>645</th>\n",
       "      <td>153</td>\n",
       "      <td>26510400000</td>\n",
       "      <td>HH PP NY CHDR CHNK</td>\n",
       "      <td>8-1 OZ</td>\n",
       "      <td>20</td>\n",
       "      <td>5392101</td>\n",
       "    </tr>\n",
       "    <tr>\n",
       "      <th>646</th>\n",
       "      <td>153</td>\n",
       "      <td>26513700000</td>\n",
       "      <td>DOM COLBY CHUNCK</td>\n",
       "      <td>8-1 OZ</td>\n",
       "      <td>20</td>\n",
       "      <td>5392501</td>\n",
       "    </tr>\n",
       "    <tr>\n",
       "      <th>647</th>\n",
       "      <td>153</td>\n",
       "      <td>26514100000</td>\n",
       "      <td>DOM PP SLICED MILD C</td>\n",
       "      <td>8-1 OZ</td>\n",
       "      <td>10</td>\n",
       "      <td>5376001</td>\n",
       "    </tr>\n",
       "    <tr>\n",
       "      <th>648</th>\n",
       "      <td>153</td>\n",
       "      <td>26515500000</td>\n",
       "      <td>HH PP COLBY HLFMOON</td>\n",
       "      <td>8-1 OZ</td>\n",
       "      <td>20</td>\n",
       "      <td>5393001</td>\n",
       "    </tr>\n",
       "    <tr>\n",
       "      <th>649</th>\n",
       "      <td>153</td>\n",
       "      <td>26516100000</td>\n",
       "      <td>HH PRE PR FULL MOON</td>\n",
       "      <td>17-24 OZ</td>\n",
       "      <td>20</td>\n",
       "      <td>5394301</td>\n",
       "    </tr>\n",
       "    <tr>\n",
       "      <th>650</th>\n",
       "      <td>153</td>\n",
       "      <td>26520500000</td>\n",
       "      <td>DOM MONTEREY JACK CH</td>\n",
       "      <td>8-1 OZ</td>\n",
       "      <td>10</td>\n",
       "      <td>5394251</td>\n",
       "    </tr>\n",
       "    <tr>\n",
       "      <th>651</th>\n",
       "      <td>153</td>\n",
       "      <td>26521900000</td>\n",
       "      <td>DOM MOZZARELLA CHUNK</td>\n",
       "      <td>8-1 OZ</td>\n",
       "      <td>20</td>\n",
       "      <td>5394201</td>\n",
       "    </tr>\n",
       "    <tr>\n",
       "      <th>652</th>\n",
       "      <td>153</td>\n",
       "      <td>26522500000</td>\n",
       "      <td>DOM PP SLICED MOZZAR</td>\n",
       "      <td>8-1 OZ</td>\n",
       "      <td>10</td>\n",
       "      <td>5379001</td>\n",
       "    </tr>\n",
       "    <tr>\n",
       "      <th>653</th>\n",
       "      <td>153</td>\n",
       "      <td>26522800000</td>\n",
       "      <td>DOM</td>\n",
       "      <td>1 OZ</td>\n",
       "      <td>20</td>\n",
       "      <td>5390501</td>\n",
       "    </tr>\n",
       "    <tr>\n",
       "      <th>654</th>\n",
       "      <td>153</td>\n",
       "      <td>26523800000</td>\n",
       "      <td>DOM PP SLICED MUENST</td>\n",
       "      <td>8-1 OZ</td>\n",
       "      <td>10</td>\n",
       "      <td>5375001</td>\n",
       "    </tr>\n",
       "    <tr>\n",
       "      <th>655</th>\n",
       "      <td>153</td>\n",
       "      <td>26527200000</td>\n",
       "      <td>DOM SWISS CHUNCK</td>\n",
       "      <td>8-1 OZ</td>\n",
       "      <td>20</td>\n",
       "      <td>5394001</td>\n",
       "    </tr>\n",
       "    <tr>\n",
       "      <th>656</th>\n",
       "      <td>153</td>\n",
       "      <td>26528000000</td>\n",
       "      <td>DOM PP SLICED SWISS</td>\n",
       "      <td>8-1 OZ</td>\n",
       "      <td>10</td>\n",
       "      <td>5374001</td>\n",
       "    </tr>\n",
       "    <tr>\n",
       "      <th>657</th>\n",
       "      <td>155</td>\n",
       "      <td>26532000000</td>\n",
       "      <td>DOM PP SLICED AMERIC</td>\n",
       "      <td>8-1 OZ</td>\n",
       "      <td>10</td>\n",
       "      <td>5373901</td>\n",
       "    </tr>\n",
       "    <tr>\n",
       "      <th>658</th>\n",
       "      <td>153</td>\n",
       "      <td>26537200000</td>\n",
       "      <td>DOM DANISH HAVARTI C</td>\n",
       "      <td>8-1 OZ</td>\n",
       "      <td>10</td>\n",
       "      <td>5390601</td>\n",
       "    </tr>\n",
       "    <tr>\n",
       "      <th>659</th>\n",
       "      <td>153</td>\n",
       "      <td>27504800000</td>\n",
       "      <td>CF RW 10 MEDIUM CHE</td>\n",
       "      <td>10 OZ</td>\n",
       "      <td>10</td>\n",
       "      <td>5330180</td>\n",
       "    </tr>\n",
       "    <tr>\n",
       "      <th>660</th>\n",
       "      <td>153</td>\n",
       "      <td>27506800000</td>\n",
       "      <td>CF RW 10 SHARP CHED</td>\n",
       "      <td>10 OZ</td>\n",
       "      <td>10</td>\n",
       "      <td>5330280</td>\n",
       "    </tr>\n",
       "    <tr>\n",
       "      <th>661</th>\n",
       "      <td>153</td>\n",
       "      <td>27513100000</td>\n",
       "      <td>CF RW 10 COLBY</td>\n",
       "      <td>10 OZ</td>\n",
       "      <td>10</td>\n",
       "      <td>5330120</td>\n",
       "    </tr>\n",
       "    <tr>\n",
       "      <th>662</th>\n",
       "      <td>153</td>\n",
       "      <td>27521900000</td>\n",
       "      <td>CF RW 10 MOZZARELLA</td>\n",
       "      <td>10 OZ</td>\n",
       "      <td>10</td>\n",
       "      <td>5330240</td>\n",
       "    </tr>\n",
       "    <tr>\n",
       "      <th>663</th>\n",
       "      <td>153</td>\n",
       "      <td>27527200000</td>\n",
       "      <td>CF RW 10 SWISS</td>\n",
       "      <td>8-1 OZ</td>\n",
       "      <td>1</td>\n",
       "      <td>533030</td>\n",
       "    </tr>\n",
       "    <tr>\n",
       "      <th>664</th>\n",
       "      <td>155</td>\n",
       "      <td>72100072181</td>\n",
       "      <td>KR VELVEETA LOAF PP</td>\n",
       "      <td>32 OZ</td>\n",
       "      <td>12</td>\n",
       "      <td>5301501</td>\n",
       "    </tr>\n",
       "    <tr>\n",
       "      <th>665</th>\n",
       "      <td>155</td>\n",
       "      <td>72100072182</td>\n",
       "      <td>KR VELVEETA LOAF LIG</td>\n",
       "      <td>32 OZ</td>\n",
       "      <td>12</td>\n",
       "      <td>5301541</td>\n",
       "    </tr>\n",
       "    <tr>\n",
       "      <th>666</th>\n",
       "      <td>156</td>\n",
       "      <td>73537577002</td>\n",
       "      <td>TRAD CHO CHO CHIP CK</td>\n",
       "      <td>20 OZ</td>\n",
       "      <td>12</td>\n",
       "      <td>5390040</td>\n",
       "    </tr>\n",
       "  </tbody>\n",
       "</table>\n",
       "</div>"
      ],
      "text/plain": [
       "     COM_CODE          UPC               DESCRIP      SIZE  CASE    NITEM\n",
       "617       154   7881200830  MILLERS STRING CHEES      4 OZ    12  5375060\n",
       "618       155   7881200885  MILLERS AMER SLCD YE      3 OZ     3  9824440\n",
       "619       154   7881200910  MILLERS SHRED MOZZER      8 OZ    12  5375070\n",
       "620       155   7881207202  MLRS LO SOD/LO FAT S      6 OZ    12  5375050\n",
       "621       156   7881207805  MILLERS LO SALT GOUD    7.0 OZ    12  5375130\n",
       "622       156   7881208328  MILLERS HRB-GRLC YOG      6 OZ    12  5375090\n",
       "623       154   7881208350   MLR KSR CHS SLYOGUR      6 OZ    12  9824200\n",
       "624       154   7881209725  MILLERS WHITE AMERIC     12 OZ    12  5375030\n",
       "625       155   7881209885  MILLERS AMER SLCD WH      3 OZ     3  9824450\n",
       "626       154   7881231400  MILLER'S SL AMERICAN      8 OZ    12  9822940\n",
       "627       156   7881231500  MILLER'S SL AMERICAN      8 OZ    12  9822950\n",
       "628       156   7978340812  LC SHIPPER/WEDGE-COM      6 OZ    72  9898980\n",
       "629       156   7978340820  LC SHIPPER/WEDGE-COM      6 OZ    72  9898980\n",
       "630       156   7978340821  LC SHIPPER/WEDGE-COM      6 OZ    72  9898980\n",
       "631       156   7978340829  LC SHIPPER/WEDGE-COM      6 OZ    72  9898980\n",
       "632       153   9396624310   ORGANIC VALLEY MILD      8 OZ    14  5303900\n",
       "633       155  26100500000  DOM PP SLICED AMERIC    8-1 OZ    10  5373901\n",
       "634       153  26104500000  DOM  MUENSTER CHUNCK    8-1 OZ    20  5390501\n",
       "635       153  26106500000  DOM SHARP CHEDDAR CH    8-1 OZ    20  5392001\n",
       "636       153  26109000000      DOM SWISS CHUNCK    8-1 OZ    20  5394001\n",
       "637       153  26500400000      HH PP BRICK CHNK    8-1 OZ    20  5391501\n",
       "638       153  26500900000      HH PP SLCD BRICK    8-1 OZ    10  5374501\n",
       "639       153  26503000000  DOM MILD CHEDDAR CHU    8-1 OZ    20  5394351\n",
       "640       153  26503400000  DOM PP SLICED MILD C    8-1 OZ    10  5375501\n",
       "641       153  26504200000    HH PP LH CHDR CHNK    8-1 OZ    20  5394101\n",
       "642       153  26507600000  DOM SHARP CHEDDAR CH    8-1 OZ    20  5392001\n",
       "643       153  26508000000   DOM PP SLICED SHARP    8-1 OZ    10  5376501\n",
       "644       153  26510300000    HH PP NY CHDR CHNK    8-1 OZ    20  5392101\n",
       "645       153  26510400000    HH PP NY CHDR CHNK    8-1 OZ    20  5392101\n",
       "646       153  26513700000      DOM COLBY CHUNCK    8-1 OZ    20  5392501\n",
       "647       153  26514100000  DOM PP SLICED MILD C    8-1 OZ    10  5376001\n",
       "648       153  26515500000   HH PP COLBY HLFMOON    8-1 OZ    20  5393001\n",
       "649       153  26516100000   HH PRE PR FULL MOON  17-24 OZ    20  5394301\n",
       "650       153  26520500000  DOM MONTEREY JACK CH    8-1 OZ    10  5394251\n",
       "651       153  26521900000  DOM MOZZARELLA CHUNK    8-1 OZ    20  5394201\n",
       "652       153  26522500000  DOM PP SLICED MOZZAR    8-1 OZ    10  5379001\n",
       "653       153  26522800000                   DOM      1 OZ    20  5390501\n",
       "654       153  26523800000  DOM PP SLICED MUENST    8-1 OZ    10  5375001\n",
       "655       153  26527200000      DOM SWISS CHUNCK    8-1 OZ    20  5394001\n",
       "656       153  26528000000   DOM PP SLICED SWISS    8-1 OZ    10  5374001\n",
       "657       155  26532000000  DOM PP SLICED AMERIC    8-1 OZ    10  5373901\n",
       "658       153  26537200000  DOM DANISH HAVARTI C    8-1 OZ    10  5390601\n",
       "659       153  27504800000   CF RW 10 MEDIUM CHE     10 OZ    10  5330180\n",
       "660       153  27506800000   CF RW 10 SHARP CHED     10 OZ    10  5330280\n",
       "661       153  27513100000        CF RW 10 COLBY     10 OZ    10  5330120\n",
       "662       153  27521900000   CF RW 10 MOZZARELLA     10 OZ    10  5330240\n",
       "663       153  27527200000        CF RW 10 SWISS    8-1 OZ     1   533030\n",
       "664       155  72100072181   KR VELVEETA LOAF PP     32 OZ    12  5301501\n",
       "665       155  72100072182  KR VELVEETA LOAF LIG     32 OZ    12  5301541\n",
       "666       156  73537577002  TRAD CHO CHO CHIP CK     20 OZ    12  5390040"
      ]
     },
     "execution_count": 14,
     "metadata": {},
     "output_type": "execute_result"
    }
   ],
   "source": [
    "data_1.tail(50)"
   ]
  },
  {
   "cell_type": "markdown",
   "metadata": {},
   "source": [
    "### 2- Dropping Duplicates Values"
   ]
  },
  {
   "cell_type": "code",
   "execution_count": 15,
   "metadata": {},
   "outputs": [],
   "source": [
    "#Dropping Duplicate Data.\n",
    "\n",
    "data_1 = data_1.drop_duplicates()"
   ]
  },
  {
   "cell_type": "code",
   "execution_count": 16,
   "metadata": {},
   "outputs": [
    {
     "data": {
      "text/plain": [
       "COM_CODE    0\n",
       "UPC         0\n",
       "DESCRIP     0\n",
       "SIZE        0\n",
       "CASE        0\n",
       "NITEM       0\n",
       "dtype: int64"
      ]
     },
     "execution_count": 16,
     "metadata": {},
     "output_type": "execute_result"
    }
   ],
   "source": [
    "#Checking for Null Values.\n",
    "\n",
    "data_1.isnull().sum()"
   ]
  },
  {
   "cell_type": "code",
   "execution_count": 17,
   "metadata": {},
   "outputs": [],
   "source": [
    "# Dropping NITEM and CASE column because itS Irrelevant with respect to our analysis.\n",
    "\n",
    "data_1.drop('NITEM',axis=1,inplace=True)\n",
    "data_1.drop('CASE',axis=1,inplace=True)"
   ]
  },
  {
   "cell_type": "markdown",
   "metadata": {},
   "source": [
    "## Movement File Dataset"
   ]
  },
  {
   "cell_type": "markdown",
   "metadata": {},
   "source": [
    "### Exploring Dataset"
   ]
  },
  {
   "cell_type": "code",
   "execution_count": 18,
   "metadata": {},
   "outputs": [
    {
     "name": "stdout",
     "output_type": "stream",
     "text": [
      "Length of Dataset:  9427395\n",
      "Number of Attributes:  11\n"
     ]
    }
   ],
   "source": [
    "print('Length of Dataset: ', data_2.shape[0])\n",
    "print('Number of Attributes: ', data_2.shape[1])"
   ]
  },
  {
   "cell_type": "code",
   "execution_count": 19,
   "metadata": {},
   "outputs": [
    {
     "data": {
      "text/html": [
       "<div>\n",
       "<style scoped>\n",
       "    .dataframe tbody tr th:only-of-type {\n",
       "        vertical-align: middle;\n",
       "    }\n",
       "\n",
       "    .dataframe tbody tr th {\n",
       "        vertical-align: top;\n",
       "    }\n",
       "\n",
       "    .dataframe thead th {\n",
       "        text-align: right;\n",
       "    }\n",
       "</style>\n",
       "<table border=\"1\" class=\"dataframe\">\n",
       "  <thead>\n",
       "    <tr style=\"text-align: right;\">\n",
       "      <th></th>\n",
       "      <th>STORE</th>\n",
       "      <th>UPC</th>\n",
       "      <th>WEEK</th>\n",
       "      <th>MOVE</th>\n",
       "      <th>QTY</th>\n",
       "      <th>PRICE</th>\n",
       "      <th>SALE</th>\n",
       "      <th>PROFIT</th>\n",
       "      <th>OK</th>\n",
       "      <th>PRICE_HEX</th>\n",
       "      <th>PROFIT_HEX</th>\n",
       "    </tr>\n",
       "  </thead>\n",
       "  <tbody>\n",
       "    <tr>\n",
       "      <th>0</th>\n",
       "      <td>2</td>\n",
       "      <td>1570077445</td>\n",
       "      <td>1</td>\n",
       "      <td>7</td>\n",
       "      <td>1</td>\n",
       "      <td>2.41</td>\n",
       "      <td>NaN</td>\n",
       "      <td>37.59</td>\n",
       "      <td>1</td>\n",
       "      <td>400347AE147AE148</td>\n",
       "      <td>4042CB851EB851EC</td>\n",
       "    </tr>\n",
       "    <tr>\n",
       "      <th>1</th>\n",
       "      <td>2</td>\n",
       "      <td>1570077445</td>\n",
       "      <td>2</td>\n",
       "      <td>8</td>\n",
       "      <td>1</td>\n",
       "      <td>2.41</td>\n",
       "      <td>NaN</td>\n",
       "      <td>37.59</td>\n",
       "      <td>1</td>\n",
       "      <td>400347AE147AE148</td>\n",
       "      <td>4042CB851EB851EC</td>\n",
       "    </tr>\n",
       "    <tr>\n",
       "      <th>2</th>\n",
       "      <td>2</td>\n",
       "      <td>1570077445</td>\n",
       "      <td>3</td>\n",
       "      <td>4</td>\n",
       "      <td>1</td>\n",
       "      <td>2.41</td>\n",
       "      <td>NaN</td>\n",
       "      <td>37.14</td>\n",
       "      <td>1</td>\n",
       "      <td>400347AE147AE148</td>\n",
       "      <td>404291EB851EB852</td>\n",
       "    </tr>\n",
       "    <tr>\n",
       "      <th>3</th>\n",
       "      <td>2</td>\n",
       "      <td>1570077445</td>\n",
       "      <td>4</td>\n",
       "      <td>8</td>\n",
       "      <td>1</td>\n",
       "      <td>2.41</td>\n",
       "      <td>NaN</td>\n",
       "      <td>37.14</td>\n",
       "      <td>1</td>\n",
       "      <td>400347AE147AE148</td>\n",
       "      <td>404291EB851EB852</td>\n",
       "    </tr>\n",
       "    <tr>\n",
       "      <th>4</th>\n",
       "      <td>2</td>\n",
       "      <td>1570077445</td>\n",
       "      <td>5</td>\n",
       "      <td>7</td>\n",
       "      <td>1</td>\n",
       "      <td>2.41</td>\n",
       "      <td>NaN</td>\n",
       "      <td>37.14</td>\n",
       "      <td>1</td>\n",
       "      <td>400347AE147AE148</td>\n",
       "      <td>404291EB851EB852</td>\n",
       "    </tr>\n",
       "  </tbody>\n",
       "</table>\n",
       "</div>"
      ],
      "text/plain": [
       "   STORE         UPC  WEEK  MOVE  QTY  PRICE SALE  PROFIT  OK  \\\n",
       "0      2  1570077445     1     7    1   2.41  NaN   37.59   1   \n",
       "1      2  1570077445     2     8    1   2.41  NaN   37.59   1   \n",
       "2      2  1570077445     3     4    1   2.41  NaN   37.14   1   \n",
       "3      2  1570077445     4     8    1   2.41  NaN   37.14   1   \n",
       "4      2  1570077445     5     7    1   2.41  NaN   37.14   1   \n",
       "\n",
       "          PRICE_HEX        PROFIT_HEX  \n",
       "0  400347AE147AE148  4042CB851EB851EC  \n",
       "1  400347AE147AE148  4042CB851EB851EC  \n",
       "2  400347AE147AE148  404291EB851EB852  \n",
       "3  400347AE147AE148  404291EB851EB852  \n",
       "4  400347AE147AE148  404291EB851EB852  "
      ]
     },
     "execution_count": 19,
     "metadata": {},
     "output_type": "execute_result"
    }
   ],
   "source": [
    "data_2.head()"
   ]
  },
  {
   "cell_type": "code",
   "execution_count": 20,
   "metadata": {},
   "outputs": [
    {
     "data": {
      "text/html": [
       "<div>\n",
       "<style scoped>\n",
       "    .dataframe tbody tr th:only-of-type {\n",
       "        vertical-align: middle;\n",
       "    }\n",
       "\n",
       "    .dataframe tbody tr th {\n",
       "        vertical-align: top;\n",
       "    }\n",
       "\n",
       "    .dataframe thead th {\n",
       "        text-align: right;\n",
       "    }\n",
       "</style>\n",
       "<table border=\"1\" class=\"dataframe\">\n",
       "  <thead>\n",
       "    <tr style=\"text-align: right;\">\n",
       "      <th></th>\n",
       "      <th>STORE</th>\n",
       "      <th>UPC</th>\n",
       "      <th>WEEK</th>\n",
       "      <th>MOVE</th>\n",
       "      <th>QTY</th>\n",
       "      <th>PRICE</th>\n",
       "      <th>PROFIT</th>\n",
       "      <th>OK</th>\n",
       "    </tr>\n",
       "  </thead>\n",
       "  <tbody>\n",
       "    <tr>\n",
       "      <th>count</th>\n",
       "      <td>9.427395e+06</td>\n",
       "      <td>9.427395e+06</td>\n",
       "      <td>9.427395e+06</td>\n",
       "      <td>9.427395e+06</td>\n",
       "      <td>9.427395e+06</td>\n",
       "      <td>9.427395e+06</td>\n",
       "      <td>9.427395e+06</td>\n",
       "      <td>9.427395e+06</td>\n",
       "    </tr>\n",
       "    <tr>\n",
       "      <th>mean</th>\n",
       "      <td>8.314349e+01</td>\n",
       "      <td>5.056841e+09</td>\n",
       "      <td>2.071832e+02</td>\n",
       "      <td>1.285234e+01</td>\n",
       "      <td>1.010518e+00</td>\n",
       "      <td>1.747885e+00</td>\n",
       "      <td>2.454604e+01</td>\n",
       "      <td>9.812749e-01</td>\n",
       "    </tr>\n",
       "    <tr>\n",
       "      <th>std</th>\n",
       "      <td>3.666413e+01</td>\n",
       "      <td>5.951959e+09</td>\n",
       "      <td>1.135027e+02</td>\n",
       "      <td>5.055493e+01</td>\n",
       "      <td>1.382372e-01</td>\n",
       "      <td>1.443297e+00</td>\n",
       "      <td>1.758442e+01</td>\n",
       "      <td>1.355525e-01</td>\n",
       "    </tr>\n",
       "    <tr>\n",
       "      <th>min</th>\n",
       "      <td>2.000000e+00</td>\n",
       "      <td>1.570077e+09</td>\n",
       "      <td>1.000000e+00</td>\n",
       "      <td>0.000000e+00</td>\n",
       "      <td>1.000000e+00</td>\n",
       "      <td>0.000000e+00</td>\n",
       "      <td>-9.976000e+01</td>\n",
       "      <td>0.000000e+00</td>\n",
       "    </tr>\n",
       "    <tr>\n",
       "      <th>25%</th>\n",
       "      <td>5.400000e+01</td>\n",
       "      <td>2.100062e+09</td>\n",
       "      <td>1.110000e+02</td>\n",
       "      <td>0.000000e+00</td>\n",
       "      <td>1.000000e+00</td>\n",
       "      <td>0.000000e+00</td>\n",
       "      <td>0.000000e+00</td>\n",
       "      <td>1.000000e+00</td>\n",
       "    </tr>\n",
       "    <tr>\n",
       "      <th>50%</th>\n",
       "      <td>8.900000e+01</td>\n",
       "      <td>3.828153e+09</td>\n",
       "      <td>2.090000e+02</td>\n",
       "      <td>5.000000e+00</td>\n",
       "      <td>1.000000e+00</td>\n",
       "      <td>1.890000e+00</td>\n",
       "      <td>2.941000e+01</td>\n",
       "      <td>1.000000e+00</td>\n",
       "    </tr>\n",
       "    <tr>\n",
       "      <th>75%</th>\n",
       "      <td>1.130000e+02</td>\n",
       "      <td>4.610000e+09</td>\n",
       "      <td>3.060000e+02</td>\n",
       "      <td>1.300000e+01</td>\n",
       "      <td>1.000000e+00</td>\n",
       "      <td>2.600000e+00</td>\n",
       "      <td>3.761000e+01</td>\n",
       "      <td>1.000000e+00</td>\n",
       "    </tr>\n",
       "    <tr>\n",
       "      <th>max</th>\n",
       "      <td>1.460000e+02</td>\n",
       "      <td>7.353758e+10</td>\n",
       "      <td>3.990000e+02</td>\n",
       "      <td>1.817600e+04</td>\n",
       "      <td>7.000000e+00</td>\n",
       "      <td>1.113300e+02</td>\n",
       "      <td>9.999000e+01</td>\n",
       "      <td>1.000000e+00</td>\n",
       "    </tr>\n",
       "  </tbody>\n",
       "</table>\n",
       "</div>"
      ],
      "text/plain": [
       "              STORE           UPC          WEEK          MOVE           QTY  \\\n",
       "count  9.427395e+06  9.427395e+06  9.427395e+06  9.427395e+06  9.427395e+06   \n",
       "mean   8.314349e+01  5.056841e+09  2.071832e+02  1.285234e+01  1.010518e+00   \n",
       "std    3.666413e+01  5.951959e+09  1.135027e+02  5.055493e+01  1.382372e-01   \n",
       "min    2.000000e+00  1.570077e+09  1.000000e+00  0.000000e+00  1.000000e+00   \n",
       "25%    5.400000e+01  2.100062e+09  1.110000e+02  0.000000e+00  1.000000e+00   \n",
       "50%    8.900000e+01  3.828153e+09  2.090000e+02  5.000000e+00  1.000000e+00   \n",
       "75%    1.130000e+02  4.610000e+09  3.060000e+02  1.300000e+01  1.000000e+00   \n",
       "max    1.460000e+02  7.353758e+10  3.990000e+02  1.817600e+04  7.000000e+00   \n",
       "\n",
       "              PRICE        PROFIT            OK  \n",
       "count  9.427395e+06  9.427395e+06  9.427395e+06  \n",
       "mean   1.747885e+00  2.454604e+01  9.812749e-01  \n",
       "std    1.443297e+00  1.758442e+01  1.355525e-01  \n",
       "min    0.000000e+00 -9.976000e+01  0.000000e+00  \n",
       "25%    0.000000e+00  0.000000e+00  1.000000e+00  \n",
       "50%    1.890000e+00  2.941000e+01  1.000000e+00  \n",
       "75%    2.600000e+00  3.761000e+01  1.000000e+00  \n",
       "max    1.113300e+02  9.999000e+01  1.000000e+00  "
      ]
     },
     "execution_count": 20,
     "metadata": {},
     "output_type": "execute_result"
    }
   ],
   "source": [
    "# Checking for Statistical Values\n",
    "data_2.describe()"
   ]
  },
  {
   "cell_type": "code",
   "execution_count": 21,
   "metadata": {},
   "outputs": [
    {
     "data": {
      "text/plain": [
       "STORE           int64\n",
       "UPC             int64\n",
       "WEEK            int64\n",
       "MOVE            int64\n",
       "QTY             int64\n",
       "PRICE         float64\n",
       "SALE           object\n",
       "PROFIT        float64\n",
       "OK              int64\n",
       "PRICE_HEX      object\n",
       "PROFIT_HEX     object\n",
       "dtype: object"
      ]
     },
     "execution_count": 21,
     "metadata": {},
     "output_type": "execute_result"
    }
   ],
   "source": [
    "data_2.dtypes"
   ]
  },
  {
   "cell_type": "code",
   "execution_count": 22,
   "metadata": {},
   "outputs": [
    {
     "data": {
      "text/plain": [
       "STORE               0\n",
       "UPC                 0\n",
       "WEEK                0\n",
       "MOVE                0\n",
       "QTY                 0\n",
       "PRICE               0\n",
       "SALE          8067719\n",
       "PROFIT              0\n",
       "OK                  0\n",
       "PRICE_HEX           0\n",
       "PROFIT_HEX          0\n",
       "dtype: int64"
      ]
     },
     "execution_count": 22,
     "metadata": {},
     "output_type": "execute_result"
    }
   ],
   "source": [
    "#Checking for Null Values.\n",
    "\n",
    "data_2.isnull().sum()"
   ]
  },
  {
   "cell_type": "markdown",
   "metadata": {},
   "source": [
    "### Transforming Dataset"
   ]
  },
  {
   "cell_type": "markdown",
   "metadata": {},
   "source": [
    "#### Dropping Columns"
   ]
  },
  {
   "cell_type": "code",
   "execution_count": 23,
   "metadata": {},
   "outputs": [],
   "source": [
    "# Dropping Sale column because it contain too many null vaues. so its better that drop this coumn.\n",
    "\n",
    "data_2.drop('SALE',axis=1,inplace=True)"
   ]
  },
  {
   "cell_type": "code",
   "execution_count": 24,
   "metadata": {},
   "outputs": [],
   "source": [
    "# Dropping Columns 'Price_HEX' and 'Profit_HEX' because it dont have much impact.\n",
    "\n",
    "data_2.drop('PRICE_HEX',axis=1,inplace=True)\n",
    "data_2.drop('PROFIT_HEX',axis=1,inplace=True)"
   ]
  },
  {
   "cell_type": "markdown",
   "metadata": {},
   "source": [
    "#### Adding Total Sales Column"
   ]
  },
  {
   "cell_type": "code",
   "execution_count": 25,
   "metadata": {},
   "outputs": [],
   "source": [
    "# Computing Sales and creating new column of Total Sales.\n",
    "\n",
    "data_2['Total_Sales'] = data_2['PRICE']*data_2['MOVE']/data_2['QTY']"
   ]
  },
  {
   "cell_type": "code",
   "execution_count": 26,
   "metadata": {},
   "outputs": [
    {
     "data": {
      "text/html": [
       "<div>\n",
       "<style scoped>\n",
       "    .dataframe tbody tr th:only-of-type {\n",
       "        vertical-align: middle;\n",
       "    }\n",
       "\n",
       "    .dataframe tbody tr th {\n",
       "        vertical-align: top;\n",
       "    }\n",
       "\n",
       "    .dataframe thead th {\n",
       "        text-align: right;\n",
       "    }\n",
       "</style>\n",
       "<table border=\"1\" class=\"dataframe\">\n",
       "  <thead>\n",
       "    <tr style=\"text-align: right;\">\n",
       "      <th></th>\n",
       "      <th>STORE</th>\n",
       "      <th>UPC</th>\n",
       "      <th>WEEK</th>\n",
       "      <th>MOVE</th>\n",
       "      <th>QTY</th>\n",
       "      <th>PRICE</th>\n",
       "      <th>PROFIT</th>\n",
       "      <th>OK</th>\n",
       "      <th>Total_Sales</th>\n",
       "    </tr>\n",
       "  </thead>\n",
       "  <tbody>\n",
       "    <tr>\n",
       "      <th>0</th>\n",
       "      <td>2</td>\n",
       "      <td>1570077445</td>\n",
       "      <td>1</td>\n",
       "      <td>7</td>\n",
       "      <td>1</td>\n",
       "      <td>2.41</td>\n",
       "      <td>37.59</td>\n",
       "      <td>1</td>\n",
       "      <td>16.87</td>\n",
       "    </tr>\n",
       "    <tr>\n",
       "      <th>1</th>\n",
       "      <td>2</td>\n",
       "      <td>1570077445</td>\n",
       "      <td>2</td>\n",
       "      <td>8</td>\n",
       "      <td>1</td>\n",
       "      <td>2.41</td>\n",
       "      <td>37.59</td>\n",
       "      <td>1</td>\n",
       "      <td>19.28</td>\n",
       "    </tr>\n",
       "    <tr>\n",
       "      <th>2</th>\n",
       "      <td>2</td>\n",
       "      <td>1570077445</td>\n",
       "      <td>3</td>\n",
       "      <td>4</td>\n",
       "      <td>1</td>\n",
       "      <td>2.41</td>\n",
       "      <td>37.14</td>\n",
       "      <td>1</td>\n",
       "      <td>9.64</td>\n",
       "    </tr>\n",
       "    <tr>\n",
       "      <th>3</th>\n",
       "      <td>2</td>\n",
       "      <td>1570077445</td>\n",
       "      <td>4</td>\n",
       "      <td>8</td>\n",
       "      <td>1</td>\n",
       "      <td>2.41</td>\n",
       "      <td>37.14</td>\n",
       "      <td>1</td>\n",
       "      <td>19.28</td>\n",
       "    </tr>\n",
       "    <tr>\n",
       "      <th>4</th>\n",
       "      <td>2</td>\n",
       "      <td>1570077445</td>\n",
       "      <td>5</td>\n",
       "      <td>7</td>\n",
       "      <td>1</td>\n",
       "      <td>2.41</td>\n",
       "      <td>37.14</td>\n",
       "      <td>1</td>\n",
       "      <td>16.87</td>\n",
       "    </tr>\n",
       "  </tbody>\n",
       "</table>\n",
       "</div>"
      ],
      "text/plain": [
       "   STORE         UPC  WEEK  MOVE  QTY  PRICE  PROFIT  OK  Total_Sales\n",
       "0      2  1570077445     1     7    1   2.41   37.59   1        16.87\n",
       "1      2  1570077445     2     8    1   2.41   37.59   1        19.28\n",
       "2      2  1570077445     3     4    1   2.41   37.14   1         9.64\n",
       "3      2  1570077445     4     8    1   2.41   37.14   1        19.28\n",
       "4      2  1570077445     5     7    1   2.41   37.14   1        16.87"
      ]
     },
     "execution_count": 26,
     "metadata": {},
     "output_type": "execute_result"
    }
   ],
   "source": [
    "data_2.head()"
   ]
  },
  {
   "cell_type": "markdown",
   "metadata": {},
   "source": [
    "## Statistical Data Analysis"
   ]
  },
  {
   "cell_type": "code",
   "execution_count": 27,
   "metadata": {},
   "outputs": [
    {
     "data": {
      "text/html": [
       "<div>\n",
       "<style scoped>\n",
       "    .dataframe tbody tr th:only-of-type {\n",
       "        vertical-align: middle;\n",
       "    }\n",
       "\n",
       "    .dataframe tbody tr th {\n",
       "        vertical-align: top;\n",
       "    }\n",
       "\n",
       "    .dataframe thead th {\n",
       "        text-align: right;\n",
       "    }\n",
       "</style>\n",
       "<table border=\"1\" class=\"dataframe\">\n",
       "  <thead>\n",
       "    <tr style=\"text-align: right;\">\n",
       "      <th></th>\n",
       "      <th></th>\n",
       "      <th>STORE</th>\n",
       "      <th>UPC</th>\n",
       "      <th>MOVE</th>\n",
       "      <th>QTY</th>\n",
       "      <th>PRICE</th>\n",
       "      <th>OK</th>\n",
       "      <th>Total_Sales</th>\n",
       "    </tr>\n",
       "    <tr>\n",
       "      <th>WEEK</th>\n",
       "      <th>PROFIT</th>\n",
       "      <th></th>\n",
       "      <th></th>\n",
       "      <th></th>\n",
       "      <th></th>\n",
       "      <th></th>\n",
       "      <th></th>\n",
       "      <th></th>\n",
       "    </tr>\n",
       "  </thead>\n",
       "  <tbody>\n",
       "    <tr>\n",
       "      <th rowspan=\"5\" valign=\"top\">1</th>\n",
       "      <th>0.00</th>\n",
       "      <td>5</td>\n",
       "      <td>1570077445</td>\n",
       "      <td>0</td>\n",
       "      <td>1</td>\n",
       "      <td>0.000000</td>\n",
       "      <td>1</td>\n",
       "      <td>0.00</td>\n",
       "    </tr>\n",
       "    <tr>\n",
       "      <th>6.07</th>\n",
       "      <td>8</td>\n",
       "      <td>2100061161</td>\n",
       "      <td>96</td>\n",
       "      <td>1</td>\n",
       "      <td>3.890000</td>\n",
       "      <td>1</td>\n",
       "      <td>373.44</td>\n",
       "    </tr>\n",
       "    <tr>\n",
       "      <th>11.97</th>\n",
       "      <td>21</td>\n",
       "      <td>2100000014</td>\n",
       "      <td>41</td>\n",
       "      <td>1</td>\n",
       "      <td>1.170000</td>\n",
       "      <td>1</td>\n",
       "      <td>47.97</td>\n",
       "    </tr>\n",
       "    <tr>\n",
       "      <th>13.71</th>\n",
       "      <td>21</td>\n",
       "      <td>2100061526</td>\n",
       "      <td>60</td>\n",
       "      <td>1</td>\n",
       "      <td>2.290000</td>\n",
       "      <td>1</td>\n",
       "      <td>137.40</td>\n",
       "    </tr>\n",
       "    <tr>\n",
       "      <th>14.83</th>\n",
       "      <td>2</td>\n",
       "      <td>2100061161</td>\n",
       "      <td>16</td>\n",
       "      <td>1</td>\n",
       "      <td>4.290000</td>\n",
       "      <td>1</td>\n",
       "      <td>68.64</td>\n",
       "    </tr>\n",
       "    <tr>\n",
       "      <th>...</th>\n",
       "      <th>...</th>\n",
       "      <td>...</td>\n",
       "      <td>...</td>\n",
       "      <td>...</td>\n",
       "      <td>...</td>\n",
       "      <td>...</td>\n",
       "      <td>...</td>\n",
       "      <td>...</td>\n",
       "    </tr>\n",
       "    <tr>\n",
       "      <th rowspan=\"5\" valign=\"top\">399</th>\n",
       "      <th>66.64</th>\n",
       "      <td>28</td>\n",
       "      <td>26522800000</td>\n",
       "      <td>9</td>\n",
       "      <td>1</td>\n",
       "      <td>3.192222</td>\n",
       "      <td>1</td>\n",
       "      <td>28.73</td>\n",
       "    </tr>\n",
       "    <tr>\n",
       "      <th>66.65</th>\n",
       "      <td>56</td>\n",
       "      <td>26522800000</td>\n",
       "      <td>12</td>\n",
       "      <td>1</td>\n",
       "      <td>3.112500</td>\n",
       "      <td>1</td>\n",
       "      <td>37.35</td>\n",
       "    </tr>\n",
       "    <tr>\n",
       "      <th>66.66</th>\n",
       "      <td>80</td>\n",
       "      <td>26522800000</td>\n",
       "      <td>20</td>\n",
       "      <td>1</td>\n",
       "      <td>3.234000</td>\n",
       "      <td>1</td>\n",
       "      <td>64.68</td>\n",
       "    </tr>\n",
       "    <tr>\n",
       "      <th>66.68</th>\n",
       "      <td>110</td>\n",
       "      <td>26522800000</td>\n",
       "      <td>11</td>\n",
       "      <td>1</td>\n",
       "      <td>3.199091</td>\n",
       "      <td>1</td>\n",
       "      <td>35.19</td>\n",
       "    </tr>\n",
       "    <tr>\n",
       "      <th>66.72</th>\n",
       "      <td>146</td>\n",
       "      <td>26522800000</td>\n",
       "      <td>7</td>\n",
       "      <td>1</td>\n",
       "      <td>3.178571</td>\n",
       "      <td>1</td>\n",
       "      <td>22.25</td>\n",
       "    </tr>\n",
       "  </tbody>\n",
       "</table>\n",
       "<p>628857 rows × 7 columns</p>\n",
       "</div>"
      ],
      "text/plain": [
       "             STORE          UPC  MOVE  QTY     PRICE  OK  Total_Sales\n",
       "WEEK PROFIT                                                          \n",
       "1    0.00        5   1570077445     0    1  0.000000   1         0.00\n",
       "     6.07        8   2100061161    96    1  3.890000   1       373.44\n",
       "     11.97      21   2100000014    41    1  1.170000   1        47.97\n",
       "     13.71      21   2100061526    60    1  2.290000   1       137.40\n",
       "     14.83       2   2100061161    16    1  4.290000   1        68.64\n",
       "...            ...          ...   ...  ...       ...  ..          ...\n",
       "399  66.64      28  26522800000     9    1  3.192222   1        28.73\n",
       "     66.65      56  26522800000    12    1  3.112500   1        37.35\n",
       "     66.66      80  26522800000    20    1  3.234000   1        64.68\n",
       "     66.68     110  26522800000    11    1  3.199091   1        35.19\n",
       "     66.72     146  26522800000     7    1  3.178571   1        22.25\n",
       "\n",
       "[628857 rows x 7 columns]"
      ]
     },
     "execution_count": 27,
     "metadata": {},
     "output_type": "execute_result"
    }
   ],
   "source": [
    "# Grouping profit with respect to weeks.\n",
    "weekly_profit = data_2.groupby(['WEEK', 'PROFIT'])\n",
    "  \n",
    "# Print the first value in each group\n",
    "weekly_profit.first()"
   ]
  },
  {
   "cell_type": "code",
   "execution_count": 28,
   "metadata": {},
   "outputs": [
    {
     "data": {
      "text/plain": [
       "STORE\n",
       "2     108935\n",
       "5     111695\n",
       "8     111037\n",
       "9     111710\n",
       "12    112391\n",
       "14    111933\n",
       "18    110013\n",
       "21    110651\n",
       "28    110424\n",
       "32    109674\n",
       "Name: Total_Sales, dtype: int64"
      ]
     },
     "execution_count": 28,
     "metadata": {},
     "output_type": "execute_result"
    }
   ],
   "source": [
    "# Count of sales from every store.\n",
    "sales_by_store = data_2.groupby(\"STORE\")[\"Total_Sales\"].count()\n",
    "sales_by_store.head(10)"
   ]
  },
  {
   "cell_type": "code",
   "execution_count": 29,
   "metadata": {},
   "outputs": [
    {
     "data": {
      "text/plain": [
       "WEEK  STORE\n",
       "1     2        235\n",
       "      5        244\n",
       "      8        252\n",
       "      9        246\n",
       "      12       247\n",
       "      14       252\n",
       "      18       239\n",
       "      21       249\n",
       "      28       249\n",
       "      32       245\n",
       "Name: Total_Sales, dtype: int64"
      ]
     },
     "execution_count": 29,
     "metadata": {},
     "output_type": "execute_result"
    }
   ],
   "source": [
    "# Weekly sales from each stores.\n",
    "\n",
    "WEEKLY_sales_by_store = data_2.groupby([\"WEEK\",\"STORE\"])[\"Total_Sales\"].count()\n",
    "WEEKLY_sales_by_store.head(10)"
   ]
  },
  {
   "cell_type": "code",
   "execution_count": 30,
   "metadata": {},
   "outputs": [
    {
     "data": {
      "text/plain": [
       "UPC\n",
       "7027207414    99.99\n",
       "2100061999    99.69\n",
       "4530007180    99.48\n",
       "2100061223    99.47\n",
       "7027224105    98.49\n",
       "1570077446    97.34\n",
       "2100000156    96.48\n",
       "1570077456    95.50\n",
       "1570077501    95.02\n",
       "7027202012    93.85\n",
       "Name: PROFIT, dtype: float64"
      ]
     },
     "execution_count": 30,
     "metadata": {},
     "output_type": "execute_result"
    }
   ],
   "source": [
    "# Products with Maximam Profits\n",
    "\n",
    "Profit_per_upc = data_2.groupby(\"UPC\")[\"PROFIT\"].max().sort_values(ascending=False)\n",
    "Profit_per_upc.head(10)"
   ]
  },
  {
   "cell_type": "code",
   "execution_count": 31,
   "metadata": {},
   "outputs": [
    {
     "data": {
      "text/plain": [
       "STORE  WEEK\n",
       "126    323     299002.56\n",
       "80     323     199685.04\n",
       "112    323     199280.70\n",
       "121    323     101247.66\n",
       "89     323     100638.63\n",
       "Name: Total_Sales, dtype: float64"
      ]
     },
     "execution_count": 31,
     "metadata": {},
     "output_type": "execute_result"
    }
   ],
   "source": [
    "# Stores with maximam weekly profits.\n",
    "Profit_per_upc = data_2.groupby([\"STORE\",\"WEEK\"])[\"Total_Sales\"].max().sort_values(ascending=False)\n",
    "Profit_per_upc.head(5)"
   ]
  },
  {
   "cell_type": "code",
   "execution_count": 32,
   "metadata": {},
   "outputs": [
    {
     "data": {
      "text/plain": [
       "STORE  WEEK\n",
       "64     30      18176\n",
       "44     13      17152\n",
       "74     223      9446\n",
       "73     223      8214\n",
       "98     223      7557\n",
       "Name: MOVE, dtype: int64"
      ]
     },
     "execution_count": 32,
     "metadata": {},
     "output_type": "execute_result"
    }
   ],
   "source": [
    "# Stores which sold maximam products in a week.\n",
    "Profit_per_upc = data_2.groupby([\"STORE\",\"WEEK\"])[\"MOVE\"].max().sort_values(ascending=False)\n",
    "Profit_per_upc.head(5)"
   ]
  },
  {
   "cell_type": "code",
   "execution_count": 33,
   "metadata": {},
   "outputs": [
    {
     "data": {
      "text/plain": [
       "UPC\n",
       "2100061223     111.33\n",
       "26527200000     46.08\n",
       "26537200000     31.17\n",
       "26513700000     26.03\n",
       "5300000778      24.80\n",
       "Name: PRICE, dtype: float64"
      ]
     },
     "execution_count": 33,
     "metadata": {},
     "output_type": "execute_result"
    }
   ],
   "source": [
    "# Product with High Prices.\n",
    "Profit_per_upc = data_2.groupby(\"UPC\")[\"PRICE\"].max().sort_values(ascending=False)\n",
    "Profit_per_upc.head()"
   ]
  },
  {
   "cell_type": "code",
   "execution_count": 34,
   "metadata": {},
   "outputs": [
    {
     "data": {
      "text/plain": [
       "STORE\n",
       "92     99.99\n",
       "67     99.99\n",
       "70     99.99\n",
       "113    99.99\n",
       "72     99.99\n",
       "Name: PROFIT, dtype: float64"
      ]
     },
     "execution_count": 34,
     "metadata": {},
     "output_type": "execute_result"
    }
   ],
   "source": [
    "# Stores with Maximam Profits.\n",
    "Profit_per_upc = data_2.groupby(\"STORE\")[\"PROFIT\"].max().sort_values(ascending=False)\n",
    "Profit_per_upc.head()"
   ]
  },
  {
   "cell_type": "markdown",
   "metadata": {},
   "source": [
    "## Combining Datasets"
   ]
  },
  {
   "cell_type": "code",
   "execution_count": 35,
   "metadata": {},
   "outputs": [],
   "source": [
    "merged_data = pd.merge(left=data_1, right=data_2, how='outer', left_on='UPC', right_on='UPC')"
   ]
  },
  {
   "cell_type": "code",
   "execution_count": 36,
   "metadata": {},
   "outputs": [
    {
     "data": {
      "text/html": [
       "<div>\n",
       "<style scoped>\n",
       "    .dataframe tbody tr th:only-of-type {\n",
       "        vertical-align: middle;\n",
       "    }\n",
       "\n",
       "    .dataframe tbody tr th {\n",
       "        vertical-align: top;\n",
       "    }\n",
       "\n",
       "    .dataframe thead th {\n",
       "        text-align: right;\n",
       "    }\n",
       "</style>\n",
       "<table border=\"1\" class=\"dataframe\">\n",
       "  <thead>\n",
       "    <tr style=\"text-align: right;\">\n",
       "      <th></th>\n",
       "      <th>COM_CODE</th>\n",
       "      <th>UPC</th>\n",
       "      <th>DESCRIP</th>\n",
       "      <th>SIZE</th>\n",
       "      <th>STORE</th>\n",
       "      <th>WEEK</th>\n",
       "      <th>MOVE</th>\n",
       "      <th>QTY</th>\n",
       "      <th>PRICE</th>\n",
       "      <th>PROFIT</th>\n",
       "      <th>OK</th>\n",
       "      <th>Total_Sales</th>\n",
       "    </tr>\n",
       "  </thead>\n",
       "  <tbody>\n",
       "    <tr>\n",
       "      <th>0</th>\n",
       "      <td>153</td>\n",
       "      <td>1570077445</td>\n",
       "      <td>CTY LN COLBY MILD</td>\n",
       "      <td>10 OZ</td>\n",
       "      <td>2</td>\n",
       "      <td>1</td>\n",
       "      <td>7</td>\n",
       "      <td>1</td>\n",
       "      <td>2.41</td>\n",
       "      <td>37.59</td>\n",
       "      <td>1</td>\n",
       "      <td>16.87</td>\n",
       "    </tr>\n",
       "    <tr>\n",
       "      <th>1</th>\n",
       "      <td>153</td>\n",
       "      <td>1570077445</td>\n",
       "      <td>CTY LN COLBY MILD</td>\n",
       "      <td>10 OZ</td>\n",
       "      <td>2</td>\n",
       "      <td>2</td>\n",
       "      <td>8</td>\n",
       "      <td>1</td>\n",
       "      <td>2.41</td>\n",
       "      <td>37.59</td>\n",
       "      <td>1</td>\n",
       "      <td>19.28</td>\n",
       "    </tr>\n",
       "    <tr>\n",
       "      <th>2</th>\n",
       "      <td>153</td>\n",
       "      <td>1570077445</td>\n",
       "      <td>CTY LN COLBY MILD</td>\n",
       "      <td>10 OZ</td>\n",
       "      <td>2</td>\n",
       "      <td>3</td>\n",
       "      <td>4</td>\n",
       "      <td>1</td>\n",
       "      <td>2.41</td>\n",
       "      <td>37.14</td>\n",
       "      <td>1</td>\n",
       "      <td>9.64</td>\n",
       "    </tr>\n",
       "    <tr>\n",
       "      <th>3</th>\n",
       "      <td>153</td>\n",
       "      <td>1570077445</td>\n",
       "      <td>CTY LN COLBY MILD</td>\n",
       "      <td>10 OZ</td>\n",
       "      <td>2</td>\n",
       "      <td>4</td>\n",
       "      <td>8</td>\n",
       "      <td>1</td>\n",
       "      <td>2.41</td>\n",
       "      <td>37.14</td>\n",
       "      <td>1</td>\n",
       "      <td>19.28</td>\n",
       "    </tr>\n",
       "    <tr>\n",
       "      <th>4</th>\n",
       "      <td>153</td>\n",
       "      <td>1570077445</td>\n",
       "      <td>CTY LN COLBY MILD</td>\n",
       "      <td>10 OZ</td>\n",
       "      <td>2</td>\n",
       "      <td>5</td>\n",
       "      <td>7</td>\n",
       "      <td>1</td>\n",
       "      <td>2.41</td>\n",
       "      <td>37.14</td>\n",
       "      <td>1</td>\n",
       "      <td>16.87</td>\n",
       "    </tr>\n",
       "  </tbody>\n",
       "</table>\n",
       "</div>"
      ],
      "text/plain": [
       "   COM_CODE         UPC            DESCRIP   SIZE  STORE  WEEK  MOVE  QTY  \\\n",
       "0       153  1570077445  CTY LN COLBY MILD  10 OZ      2     1     7    1   \n",
       "1       153  1570077445  CTY LN COLBY MILD  10 OZ      2     2     8    1   \n",
       "2       153  1570077445  CTY LN COLBY MILD  10 OZ      2     3     4    1   \n",
       "3       153  1570077445  CTY LN COLBY MILD  10 OZ      2     4     8    1   \n",
       "4       153  1570077445  CTY LN COLBY MILD  10 OZ      2     5     7    1   \n",
       "\n",
       "   PRICE  PROFIT  OK  Total_Sales  \n",
       "0   2.41   37.59   1        16.87  \n",
       "1   2.41   37.59   1        19.28  \n",
       "2   2.41   37.14   1         9.64  \n",
       "3   2.41   37.14   1        19.28  \n",
       "4   2.41   37.14   1        16.87  "
      ]
     },
     "execution_count": 36,
     "metadata": {},
     "output_type": "execute_result"
    }
   ],
   "source": [
    "merged_data.head()"
   ]
  },
  {
   "cell_type": "code",
   "execution_count": 37,
   "metadata": {},
   "outputs": [
    {
     "data": {
      "text/plain": [
       "DESCRIP               UPC       \n",
       "CTY LN SHREDDED CHED  7027207414    99.99\n",
       "KR REDUCE FAT AMER S  2100061999    99.69\n",
       "TREASURE CAVE SQUARE  4530007180    99.48\n",
       "KR PHILA CREAM CHEES  2100061223    99.47\n",
       "HC CREAM CHEESE BRI   7027224105    98.49\n",
       "Name: PROFIT, dtype: float64"
      ]
     },
     "execution_count": 37,
     "metadata": {},
     "output_type": "execute_result"
    }
   ],
   "source": [
    "Profit_per_product = merged_data.groupby([\"DESCRIP\",\"UPC\"])[\"PROFIT\"].max().sort_values(ascending=False)\n",
    "Profit_per_product.head(5)"
   ]
  },
  {
   "cell_type": "code",
   "execution_count": 38,
   "metadata": {},
   "outputs": [
    {
     "data": {
      "text/plain": [
       "DESCRIP               SIZE \n",
       "KR PHILA CREAM CHEES  8 OZ     299002.56\n",
       "KR AMERICAN SINGLES   16 OZ     56087.04\n",
       "KR GRTD PARMESAN      8 OZ      44584.96\n",
       "Name: Total_Sales, dtype: float64"
      ]
     },
     "execution_count": 38,
     "metadata": {},
     "output_type": "execute_result"
    }
   ],
   "source": [
    "# Stores with Maximam Profits.\n",
    "sales_per_product_size = merged_data.groupby([\"DESCRIP\",\"SIZE\"])[\"Total_Sales\"].max().sort_values(ascending=False)\n",
    "sales_per_product_size.head(3)"
   ]
  },
  {
   "cell_type": "code",
   "execution_count": 39,
   "metadata": {},
   "outputs": [
    {
     "data": {
      "text/plain": [
       "DESCRIP               UPC        \n",
       "KR PHILA CREAM CHEES  2100061223     111.33\n",
       "DOM SWISS CHUNCK      26527200000     46.08\n",
       "DOM DANISH HAVARTI C  26537200000     31.17\n",
       "DOM COLBY CHUNCK      26513700000     26.03\n",
       "BORDEN SHARP FAT FRE  5300000778      24.80\n",
       "Name: PRICE, dtype: float64"
      ]
     },
     "execution_count": 39,
     "metadata": {},
     "output_type": "execute_result"
    }
   ],
   "source": [
    "Price_per_product = merged_data.groupby([\"DESCRIP\",\"UPC\"])[\"PRICE\"].max().sort_values(ascending=False)\n",
    "Price_per_product.head(5)"
   ]
  },
  {
   "cell_type": "code",
   "execution_count": 40,
   "metadata": {},
   "outputs": [
    {
     "data": {
      "text/plain": [
       "STORE  WEEK\n",
       "64     30      18176\n",
       "44     13      17152\n",
       "74     223      9446\n",
       "73     223      8214\n",
       "98     223      7557\n",
       "Name: MOVE, dtype: int64"
      ]
     },
     "execution_count": 40,
     "metadata": {},
     "output_type": "execute_result"
    }
   ],
   "source": [
    "per_product = merged_data.groupby([\"STORE\",\"WEEK\"])[\"MOVE\"].max().sort_values(ascending=False)\n",
    "per_product.head(5)"
   ]
  },
  {
   "cell_type": "code",
   "execution_count": 41,
   "metadata": {},
   "outputs": [
    {
     "data": {
      "text/plain": [
       "DESCRIP               UPC       \n",
       "DOM AMER SNGL CHS FO  3828153029    18176\n",
       "KR AMERICAN SINGLES   2100061526    17152\n",
       "HH CREAM CHEESE       3828153085    15872\n",
       "KR SHREDDED COLBY/JA  2100063235    15872\n",
       "DOM AMER SNGL CHS SP  3828153045    15616\n",
       "Name: MOVE, dtype: int64"
      ]
     },
     "execution_count": 41,
     "metadata": {},
     "output_type": "execute_result"
    }
   ],
   "source": [
    "product = merged_data.groupby([\"DESCRIP\",\"UPC\"])[\"MOVE\"].max().sort_values(ascending=False)\n",
    "product.head(5)"
   ]
  },
  {
   "cell_type": "code",
   "execution_count": 42,
   "metadata": {},
   "outputs": [
    {
     "data": {
      "text/plain": [
       "COM_CODE\n",
       "154    99.99\n",
       "155    99.69\n",
       "156    99.48\n",
       "157    99.47\n",
       "153    97.34\n",
       "152    84.58\n",
       "61     70.16\n",
       "Name: PROFIT, dtype: float64"
      ]
     },
     "execution_count": 42,
     "metadata": {},
     "output_type": "execute_result"
    }
   ],
   "source": [
    "Profit_per_com = merged_data.groupby(\"COM_CODE\")[\"PROFIT\"].max().sort_values(ascending=False)\n",
    "Profit_per_com.head(10)"
   ]
  },
  {
   "cell_type": "code",
   "execution_count": 43,
   "metadata": {},
   "outputs": [
    {
     "data": {
      "text/plain": [
       "COM_CODE\n",
       "157    111.33\n",
       "153     46.08\n",
       "155     24.80\n",
       "154      7.99\n",
       "152      6.79\n",
       "156      6.29\n",
       "61       0.39\n",
       "Name: PRICE, dtype: float64"
      ]
     },
     "execution_count": 43,
     "metadata": {},
     "output_type": "execute_result"
    }
   ],
   "source": [
    "Price_per_comm = merged_data.groupby(\"COM_CODE\")[\"PRICE\"].max().sort_values(ascending=False)\n",
    "Price_per_comm.head(10)"
   ]
  },
  {
   "cell_type": "code",
   "execution_count": 44,
   "metadata": {},
   "outputs": [
    {
     "data": {
      "text/plain": [
       "COM_CODE\n",
       "157    299002.560000\n",
       "155     56087.040000\n",
       "152     44584.960000\n",
       "153     41333.760000\n",
       "154     32537.600000\n",
       "156      3754.666667\n",
       "61        256.360000\n",
       "Name: Total_Sales, dtype: float64"
      ]
     },
     "execution_count": 44,
     "metadata": {},
     "output_type": "execute_result"
    }
   ],
   "source": [
    "sales_per_com = merged_data.groupby(\"COM_CODE\")[\"Total_Sales\"].max().sort_values(ascending=False)\n",
    "sales_per_com.head(10)"
   ]
  }
 ],
 "metadata": {
  "kernelspec": {
   "display_name": "Python 3.9.7 64-bit",
   "language": "python",
   "name": "python3"
  },
  "language_info": {
   "codemirror_mode": {
    "name": "ipython",
    "version": 3
   },
   "file_extension": ".py",
   "mimetype": "text/x-python",
   "name": "python",
   "nbconvert_exporter": "python",
   "pygments_lexer": "ipython3",
   "version": "3.9.7"
  },
  "orig_nbformat": 4,
  "vscode": {
   "interpreter": {
    "hash": "95f57ecaf1e4684a97728584cbdcdcfb0a14de4fde6afb1e55592db96a99a5c0"
   }
  }
 },
 "nbformat": 4,
 "nbformat_minor": 2
}
